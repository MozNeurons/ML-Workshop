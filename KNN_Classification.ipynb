{
 "cells": [
  {
   "cell_type": "code",
   "execution_count": 1,
   "metadata": {},
   "outputs": [],
   "source": [
    "import numpy as np\n",
    "import sklearn.datasets as dt\n",
    "import matplotlib.pyplot as plt\n"
   ]
  },
  {
   "cell_type": "code",
   "execution_count": 2,
   "metadata": {},
   "outputs": [],
   "source": [
    "iris = dt.load_iris()"
   ]
  },
  {
   "cell_type": "code",
   "execution_count": 4,
   "metadata": {},
   "outputs": [
    {
     "name": "stdout",
     "output_type": "stream",
     "text": [
      "[5.1 3.5 1.4 0.2] 0\n",
      "[5.7 2.6 3.5 1. ] 1\n",
      "[6.3 3.3 6.  2.5] 2\n"
     ]
    }
   ],
   "source": [
    "iris_data = iris.data\n",
    "iris_labels = iris.target\n",
    "print(iris_data[0],iris_labels[0])\n",
    "print(iris_data[79],iris_labels[79])\n",
    "print(iris_data[100],iris_labels[100])"
   ]
  },
  {
   "cell_type": "code",
   "execution_count": 7,
   "metadata": {},
   "outputs": [
    {
     "name": "stdout",
     "output_type": "stream",
     "text": [
      "[[4.4 3.  1.3 0.2]\n",
      " [5.6 3.  4.5 1.5]\n",
      " [6.4 3.2 5.3 2.3]\n",
      " [7.7 3.8 6.7 2.2]] [0 1 2 2]\n",
      "[[5.  3.3 1.4 0.2]\n",
      " [6.1 2.8 4.7 1.2]\n",
      " [6.1 3.  4.6 1.4]\n",
      " [5.7 2.8 4.5 1.3]] [0 1 1 1]\n"
     ]
    }
   ],
   "source": [
    "# #creating a learning set\n",
    "np.random.seed(40)\n",
    "indices = np.random.permutation(len(iris_data))\n",
    "No_of_training_data = 12\n",
    "learnset_data = iris_data[indices[:-No_of_training_data]]\n",
    "learnset_labels = iris_labels[indices[:-No_of_training_data]]\n",
    "testData = iris_data[indices[-No_of_training_data:]]\n",
    "testLabel = iris_labels[indices[-No_of_training_data:]]\n",
    "print(learnset_data[:4], learnset_labels[:4])\n",
    "print(testData[:4],testLabel[:4])"
   ]
  },
  {
   "cell_type": "code",
   "execution_count": 14,
   "metadata": {},
   "outputs": [],
   "source": [
    "# %matplotlib inline\n",
    "# from mpl_toolkits.mplot3d import Axes3D as a3d\n",
    "# colors = ['r','b']\n",
    "# X=[]\n",
    "# for iclass in range(3):\n",
    "#     X.append([[],[],[]])\n",
    "#     for i in range(len(learnset_data)):\n",
    "#         if learnset_labels[i] == iclass:\n",
    "#             X[iclass][0].append(learnset_data[i][0])\n",
    "#             X[iclass][1].append(learnset_data[i][1])\n",
    "#             X[iclass][2].append(sum(learnset_data[i][2:]))\n",
    "# colors = ('r','g','y')\n",
    "# fig = plt.figure()\n",
    "# ax=fig.add_subplot(111,projection='3d')\n",
    "# for iclass in range(3):\n",
    "#     ax.scatter(X[iclass][0],X[iclass][1],X[iclass][2],c=colors[iclass])\n",
    "# plt.show()\n"
   ]
  },
  {
   "cell_type": "code",
   "execution_count": 11,
   "metadata": {},
   "outputs": [],
   "source": [
    "# Distance function\n",
    "def dist(location1,location2):\n",
    "    location1 = np.array(location1)\n",
    "    location2 = np.array(location2)\n",
    "    return np.linalg.norm(location1 - location2)"
   ]
  },
  {
   "cell_type": "code",
   "execution_count": 16,
   "metadata": {},
   "outputs": [],
   "source": [
    "# Function for neighbor list\n",
    "def get_neighs(training_set,labels,Test_instance,k,distance=distanceFunc):\n",
    "    distances = []\n",
    "    for index in range(len(training_set)):\n",
    "        dist = distance(Test_instance,training_set[index])\n",
    "        distances.append((training_set[index],dist,labels[index]))\n",
    "    distances.sort(key = lambda x: x[1])\n",
    "    neighbours = distance[:k]\n",
    "    return neighbours"
   ]
  },
  {
   "cell_type": "code",
   "execution_count": 20,
   "metadata": {},
   "outputs": [],
   "source": [
    "for i in range(5):\n",
    "    neighbours = get_neighs(learnset_data,learnset_labels,testData[i],3,distance = dist)\n",
    "    # print('Index=',i,' testData=',testData[i],testLabel[i],neighbours)"
   ]
  },
  {
   "cell_type": "code",
   "execution_count": 26,
   "metadata": {},
   "outputs": [],
   "source": [
    "from collections import Counter\n",
    "def vote(neighs):\n",
    "    class_count = Counter()\n",
    "    for neigh in neighs:\n",
    "        class_count[neigh[2]]+=1\n",
    "    return class_count.most_common(1)[0][0]"
   ]
  },
  {
   "cell_type": "code",
   "execution_count": 31,
   "metadata": {},
   "outputs": [
    {
     "name": "stdout",
     "output_type": "stream",
     "text": [
      "Index=  0  result of vote: 0 Label :  0  data= [5.  3.3 1.4 0.2]\n",
      "Index=  1  result of vote: 1 Label :  1  data= [6.1 2.8 4.7 1.2]\n",
      "Index=  2  result of vote: 1 Label :  1  data= [6.1 3.  4.6 1.4]\n",
      "Index=  3  result of vote: 1 Label :  1  data= [5.7 2.8 4.5 1.3]\n",
      "Index=  4  result of vote: 1 Label :  1  data= [6.4 2.9 4.3 1.3]\n",
      "Index=  5  result of vote: 0 Label :  0  data= [5.1 3.8 1.5 0.3]\n",
      "Index=  6  result of vote: 2 Label :  2  data= [5.8 2.8 5.1 2.4]\n",
      "Index=  7  result of vote: 1 Label :  1  data= [6.1 2.8 4.  1.3]\n",
      "Index=  8  result of vote: 0 Label :  0  data= [4.8 3.  1.4 0.1]\n",
      "Index=  9  result of vote: 1 Label :  1  data= [7.  3.2 4.7 1.4]\n",
      "Index=  10  result of vote: 0 Label :  0  data= [5.  3.4 1.5 0.2]\n",
      "Index=  11  result of vote: 2 Label :  1  data= [5.9 3.2 4.8 1.8]\n"
     ]
    }
   ],
   "source": [
    "for i in range(No_of_training_data):\n",
    "    neighbours = get_neighs(learnset_data,learnset_labels,testData[i],3,distance = dist)\n",
    "    print('Index= ',i,' result of vote:',vote(neighbours), 'Label : ',testLabel[i],' data=',testData[i])"
   ]
  },
  {
   "cell_type": "code",
   "execution_count": 37,
   "metadata": {},
   "outputs": [],
   "source": [
    "def vote_prob(neighs):\n",
    "    class_counter = Counter()\n",
    "    for neighbour in neighs:\n",
    "        class_counter[neighbour[2]] +=1\n",
    "    labels,votes = zip(*class_counter.most_common())\n",
    "    winner = class_counter.most_common(1)[0][0]\n",
    "    votes4winner = class_counter.most_common(1)[0][1]\n",
    "    return winner, votes4winner/sum(votes)"
   ]
  },
  {
   "cell_type": "code",
   "execution_count": 41,
   "metadata": {},
   "outputs": [
    {
     "name": "stdout",
     "output_type": "stream",
     "text": [
      "index:  0 , vote_prob:  (0, 1.0) , label:  0 , data:  [5.  3.3 1.4 0.2]\n",
      "index:  1 , vote_prob:  (1, 1.0) , label:  1 , data:  [6.1 2.8 4.7 1.2]\n",
      "index:  2 , vote_prob:  (1, 1.0) , label:  1 , data:  [6.1 3.  4.6 1.4]\n",
      "index:  3 , vote_prob:  (1, 1.0) , label:  1 , data:  [5.7 2.8 4.5 1.3]\n",
      "index:  4 , vote_prob:  (1, 1.0) , label:  1 , data:  [6.4 2.9 4.3 1.3]\n",
      "index:  5 , vote_prob:  (0, 1.0) , label:  0 , data:  [5.1 3.8 1.5 0.3]\n",
      "index:  6 , vote_prob:  (2, 1.0) , label:  2 , data:  [5.8 2.8 5.1 2.4]\n",
      "index:  7 , vote_prob:  (1, 1.0) , label:  1 , data:  [6.1 2.8 4.  1.3]\n",
      "index:  8 , vote_prob:  (0, 1.0) , label:  0 , data:  [4.8 3.  1.4 0.1]\n",
      "index:  9 , vote_prob:  (1, 1.0) , label:  1 , data:  [7.  3.2 4.7 1.4]\n",
      "index:  10 , vote_prob:  (0, 1.0) , label:  0 , data:  [5.  3.4 1.5 0.2]\n",
      "index:  11 , vote_prob:  (2, 0.6) , label:  1 , data:  [5.9 3.2 4.8 1.8]\n"
     ]
    }
   ],
   "source": [
    "for i in range(No_of_training_data):\n",
    "    neighbors = get_neighs(learnset_data, \n",
    "                              learnset_labels, \n",
    "                              testData[i], \n",
    "                              5, \n",
    "                              distance=dist)\n",
    "    print(\"index: \", i, \n",
    "          \", vote_prob: \", vote_prob(neighbors), \n",
    "          \", label: \", testLabel[i], \n",
    "          \", data: \", testData[i])"
   ]
  },
  {
   "cell_type": "code",
   "execution_count": null,
   "metadata": {},
   "outputs": [],
   "source": []
  }
 ],
 "metadata": {
  "kernelspec": {
   "display_name": "Python 3",
   "language": "python",
   "name": "python3"
  },
  "language_info": {
   "codemirror_mode": {
    "name": "ipython",
    "version": 3
   },
   "file_extension": ".py",
   "mimetype": "text/x-python",
   "name": "python",
   "nbconvert_exporter": "python",
   "pygments_lexer": "ipython3",
   "version": "3.7.3"
  }
 },
 "nbformat": 4,
 "nbformat_minor": 2
}
