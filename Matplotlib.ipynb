# To add a new cell, type '#%%'
# To add a new markdown cell, type '#%% [markdown]'

#%%
from matplotlib import pyplot as plt
            #OR
import matplotlib.pyplot as plt


#%%
import numpy as np


#%%
x = np.linspace(0, 2, 100)


#%%
#print(x)


#%%
#print(x)


#%%
x = np.linspace(0, 2, 100)

plt.plot(x, x, label='linear')
plt.plot(x, x**2, label='quadratic')
plt.plot(x, x**3, label='cubic')

plt.xlabel('x axis')
plt.ylabel('y axis')

plt.title("Simple Plot")

plt.legend()

plt.show()


#%%
#SIMPLE GRAPH REPRESENTATION USING LIST 


#%%
list1=[12,32,34,54,56,76]
list2=[45,23,76,56,90,79]


#%%
plt.plot(list1,list2)
plt.show()


#%%
#plt.show()


#%%
plt.plot([3,6,9],[4,8,2])
plt.show()


#%%
#Now using label fields and adding title


#%%
x=[12,32,34]
y=[65,78,45]


#%%
plt.title("Simple Linear Graph")
plt.xlabel("X-axis")
plt.ylabel("Y-axis")
plt.plot(x,y)


#%%
# PLOT TWO DIFFERENT GRAPHS 


#%%
#from matplotlib import pyplot as plt
from matplotlib import style


#%%
style.use('ggplot')


#%%
x1=[3,6,9]
y1=[4,8,2]


#%%
x2=[5,8,11]
y2=[6,10,4]


#%%
plt.plot(x1,y1,color='green',label='First Graph',linewidth=5)
plt.plot(x2,y2,color='blue',label='Second Graph',linewidth=5)
plt.title("COMPARISION GRAPH")
plt.xlabel("X-axis")
plt.ylabel("Y-axis")
plt.plot(x1,y1,x2,y2)
# grid function have .grid(boolen,color='',...)
plt.grid(True,color='m')
plt.show()


#%%
plt.plot([1, 2, 3, 4], [1, 4, 9, 16] ,'rs')      # can be any type bo,go,ro
plt.show()


#%%
# FORMATED STRINGS


#%%
# fmt = '[marker][line][color]'


#%%
import numpy as np

t = np.arange(0, 5, 0.2)

# red dashes, blue squares and green triangles
plt.plot(t, t, 'r--', t, t**2, 'ys', t, t**3, 'g^')   # Any marker,lines or color
plt.show()


#%%
# BAR GRAPH   (Used to Compare things between Different groups)


#%%
import matplotlib.pyplot as plt


#%%
plt.bar([1,3,5,7,9] , [5,2,7,8,2] , label='bar-1' , color='b')
plt.bar([2,4,6,8,10] , [8,6,2,5,6] , label='bar-2', color='g')
plt.legend()
plt.xlabel('BAR-NUMBER')
plt.ylabel('BAR-HEIGHT')
plt.title('BAR-GRAPH')
plt.show()


#%%
# HISTOGRAM   (bins or bucket -> ranges )
# y-axis contains frequency of a variable
#shows distribution


#%%
blood_sugar = [113,85,90,150,149,
    88,93,115,135,80,77,82,129]


#%%
plt.hist(blood_sugar)
plt.show()  # by default bins=10 


#%%
# (80-100) For Normal
# (100-125) Prediabetic
# (>125) Diabetic
bins=[80,100,125,150]
plt.hist(blood_sugar,bins,rwidth=0.95,color='g') 
plt.show()


#%%
# Scatter Plot [Used for corelation between two variables, 
#               how one variable Differs from Other ]


#%%
x=[1,2,3,4,5,6,7,8]
y=[5,2,4,2,1,4,5,8]


#%%
plt.scatter(x,y,label='Scatter',color='k')
plt.xlabel('X-axis')
plt.ylabel('Y-axis')
plt.title('scatter')
plt.legend()
plt.show()


#%%
# Stack Plot or Area Plot  [Track Changes over time for one or more groups]


#%%
days = [1,2,3,4,5]


#%%
sleeping =[7,8,6,11,7]
eating = [2,3,4,3,2]
working =[7,8,7,2,2]
playing = [8,5,7,8,13]


#%%
plt.plot([],[],color='m', label='Sleeping', linewidth=5)  # ([],[] are empty list)
plt.plot([],[],color='c', label='Eating', linewidth=5)
plt.plot([],[],color='r', label='Working', linewidth=5)
plt.plot([],[],color='k', label='Playing', linewidth=5)

plt.stackplot(days, sleeping,eating,working,playing, colors=['m','c','r','k'])
 
plt.xlabel('Days')
plt.ylabel('Hours')
plt.title('Stack Plot')
plt.legend()
plt.show()


#%%
# PIE chart


#%%
# Expenses of Living 


#  1. Home Rent
#  2. Food
#  3. Phone Bill
#  4. Car
#  5. Others


#%%
exp_val = [1400,600,300,410,250]
exp_name = ["Home Rent", "Food" , "Phone Bill" , "Car" , "Others"]


#%%
plt.pie(exp_val,None,exp_name)
plt.show()


#%%
plt.pie(exp_val,None,exp_name,radius=1.2)
plt.show()


#%%
plt.pie(exp_val,labels=exp_name,radius=1.5, autopct='%0.1f%%')   #autopct is used to show percentage , here 0.2 indicated after decimal 2 digits
plt.show()   

#%%
plt.pie(exp_val,labels=exp_name,radius=1.5, autopct='%0.0f%%' 
                , shadow=True , explode=[0,0.2,0,0.5,0.1]) 
plt.show()

#%%
# 211 includes 2-> number of rows (divisions) , 1 = number of columns , 1 -> First Figure

#%%
def f(t):
   return np.exp(-t) * np.cos(2*np.pi*t)
 
t1 = np.arange(0.0, 5.0, 0.1)
t2 = np.arange(0.0, 5.0, 0.02)
plt.subplot(211)
plt.plot(t1, f(t1), 'bo', t2, f(t2),'g')
plt.subplot(212)
plt.plot(t2, np.cos(2*np.pi*t2))
plt.show()

#%% [markdown]
# 

#%%
def f(t):
   return np.exp(-t) * np.cos(2*np.pi*t)
t1 = np.arange(0.0, 5.0, 0.1)
t2 = np.arange(0.0, 5.0, 0.02)
plt.subplot(221)
plt.title('Plot 1')
plt.plot(t1, f(t1), 'bo', t2, f(t2))
plt.subplot(224)
plt.title('Plot 2')
plt.plot(t2, np.cos(2*np.pi*t2))
plt.show()

#%%
# That's all!