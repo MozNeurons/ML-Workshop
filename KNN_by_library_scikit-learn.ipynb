{
 "cells": [
  {
   "cell_type": "code",
   "execution_count": 6,
   "metadata": {},
   "outputs": [
    {
     "name": "stdout",
     "output_type": "stream",
     "text": [
      "Predictions form the classifier:\n",
      "[1 1 0 0 1 1 0 2 1 1 1 1]\n",
      "Target values:\n",
      "[1 1 0 0 1 1 0 1 1 2 1 1]\n"
     ]
    }
   ],
   "source": [
    "# Create and fit a nearest-neighbor classifier\n",
    "import numpy as np\n",
    "import sklearn.datasets as dt\n",
    "import matplotlib.pyplot as plt\n",
    "from sklearn.neighbors import KNeighborsClassifier\n",
    "iris = dt.load_iris()\n",
    "iris_data = iris.data\n",
    "iris_labels = iris.target\n",
    "\n",
    "indices = np.random.permutation(len(iris_data))\n",
    "No_of_training_data = 12\n",
    "learnset_data = iris_data[indices[:-No_of_training_data]]\n",
    "learnset_labels = iris_labels[indices[:-No_of_training_data]]\n",
    "testData = iris_data[indices[-No_of_training_data:]]\n",
    "testLabel = iris_labels[indices[-No_of_training_data:]]\n",
    "\n",
    "knn = KNeighborsClassifier()\n",
    "\n",
    "knn.fit(learnset_data, learnset_labels) \n",
    "\n",
    "KNeighborsClassifier(algorithm='auto', \n",
    "                     leaf_size=30, \n",
    "                     metric='minkowski',\n",
    "                     metric_params=None, \n",
    "                     n_jobs=1, \n",
    "                     n_neighbors=5, \n",
    "                     p=2,\n",
    "                     weights='uniform')\n",
    "\n",
    "print(\"Predictions form the classifier:\")\n",
    "print(knn.predict(testData))\n",
    "\n",
    "print(\"Target values:\")\n",
    "print(testLabel)"
   ]
  },
  {
   "cell_type": "code",
   "execution_count": null,
   "metadata": {},
   "outputs": [],
   "source": []
  }
 ],
 "metadata": {
  "kernelspec": {
   "display_name": "Python 3",
   "language": "python",
   "name": "python3"
  },
  "language_info": {
   "codemirror_mode": {
    "name": "ipython",
    "version": 3
   },
   "file_extension": ".py",
   "mimetype": "text/x-python",
   "name": "python",
   "nbconvert_exporter": "python",
   "pygments_lexer": "ipython3",
   "version": "3.7.3"
  }
 },
 "nbformat": 4,
 "nbformat_minor": 2
}
